{
 "cells": [
  {
   "cell_type": "code",
   "execution_count": 1,
   "id": "e07faf66",
   "metadata": {},
   "outputs": [],
   "source": [
    "import influxdb\n",
    "import pandas as pd\n",
    "from influxdb import InfluxDBClient\n",
    "import json\n",
    "from datetime import datetime"
   ]
  },
  {
   "cell_type": "markdown",
   "id": "86c95c1e",
   "metadata": {},
   "source": [
    "<h2>retrieving integration data from influx and storing in postress</h2>\n",
    "This notebook stores all data about number of integrations in the last over 2 years, grouped by 1 hour\n",
    "Data is stored in cvs file, then parsed by another notebook and stored in postresSQL"
   ]
  },
  {
   "cell_type": "code",
   "execution_count": 3,
   "id": "30937219",
   "metadata": {},
   "outputs": [],
   "source": [
    "auth = json.load(open('coin_credentials'))\n",
    "coin_client = InfluxDBClient(\n",
    "    host=\"localhost\",\n",
    "    #host=\"10.250.253.16\",\n",
    "    username=auth['username'],\n",
    "    password=auth['password'],\n",
    "    port=8086,\n",
    "    database=\"coin\")"
   ]
  },
  {
   "cell_type": "code",
   "execution_count": 10,
   "id": "decc9aa6",
   "metadata": {},
   "outputs": [],
   "source": [
    "q = 'SELECT count(\"id\") FROM \"integration\" WHERE time >= 1545630468492ms and time <= 1642993508370ms  GROUP BY time(1h)'\n",
    "rs = coin_client.query(q)\n",
    "df = pd.DataFrame(rs.get_points())"
   ]
  },
  {
   "cell_type": "code",
   "execution_count": 11,
   "id": "3e2d4f67",
   "metadata": {},
   "outputs": [
    {
     "data": {
      "text/plain": [
       "(27047, 2)"
      ]
     },
     "execution_count": 11,
     "metadata": {},
     "output_type": "execute_result"
    }
   ],
   "source": [
    "df.shape"
   ]
  },
  {
   "cell_type": "code",
   "execution_count": 7,
   "id": "e9a140b8",
   "metadata": {},
   "outputs": [
    {
     "data": {
      "text/html": [
       "<div>\n",
       "<style scoped>\n",
       "    .dataframe tbody tr th:only-of-type {\n",
       "        vertical-align: middle;\n",
       "    }\n",
       "\n",
       "    .dataframe tbody tr th {\n",
       "        vertical-align: top;\n",
       "    }\n",
       "\n",
       "    .dataframe thead th {\n",
       "        text-align: right;\n",
       "    }\n",
       "</style>\n",
       "<table border=\"1\" class=\"dataframe\">\n",
       "  <thead>\n",
       "    <tr style=\"text-align: right;\">\n",
       "      <th></th>\n",
       "      <th>time</th>\n",
       "      <th>count</th>\n",
       "    </tr>\n",
       "  </thead>\n",
       "  <tbody>\n",
       "    <tr>\n",
       "      <th>0</th>\n",
       "      <td>2018-12-24T03:00:00Z</td>\n",
       "      <td>0</td>\n",
       "    </tr>\n",
       "    <tr>\n",
       "      <th>1</th>\n",
       "      <td>2018-12-24T06:00:00Z</td>\n",
       "      <td>0</td>\n",
       "    </tr>\n",
       "    <tr>\n",
       "      <th>2</th>\n",
       "      <td>2018-12-24T09:00:00Z</td>\n",
       "      <td>0</td>\n",
       "    </tr>\n",
       "    <tr>\n",
       "      <th>3</th>\n",
       "      <td>2018-12-24T12:00:00Z</td>\n",
       "      <td>0</td>\n",
       "    </tr>\n",
       "    <tr>\n",
       "      <th>4</th>\n",
       "      <td>2018-12-24T15:00:00Z</td>\n",
       "      <td>0</td>\n",
       "    </tr>\n",
       "  </tbody>\n",
       "</table>\n",
       "</div>"
      ],
      "text/plain": [
       "                   time  count\n",
       "0  2018-12-24T03:00:00Z      0\n",
       "1  2018-12-24T06:00:00Z      0\n",
       "2  2018-12-24T09:00:00Z      0\n",
       "3  2018-12-24T12:00:00Z      0\n",
       "4  2018-12-24T15:00:00Z      0"
      ]
     },
     "execution_count": 7,
     "metadata": {},
     "output_type": "execute_result"
    }
   ],
   "source": [
    "df.head()"
   ]
  },
  {
   "cell_type": "code",
   "execution_count": 15,
   "id": "b404b4b1",
   "metadata": {},
   "outputs": [],
   "source": [
    "df.to_csv('integrations.csv', index=False)"
   ]
  },
  {
   "cell_type": "code",
   "execution_count": 13,
   "id": "8c909ec5",
   "metadata": {},
   "outputs": [],
   "source": [
    "df = df.dropna()"
   ]
  },
  {
   "cell_type": "code",
   "execution_count": 14,
   "id": "79722ef3",
   "metadata": {},
   "outputs": [
    {
     "data": {
      "text/plain": [
       "(27047, 2)"
      ]
     },
     "execution_count": 14,
     "metadata": {},
     "output_type": "execute_result"
    }
   ],
   "source": [
    "df.shape"
   ]
  }
 ],
 "metadata": {
  "kernelspec": {
   "display_name": "Python 3",
   "language": "python",
   "name": "python3"
  },
  "language_info": {
   "codemirror_mode": {
    "name": "ipython",
    "version": 3
   },
   "file_extension": ".py",
   "mimetype": "text/x-python",
   "name": "python",
   "nbconvert_exporter": "python",
   "pygments_lexer": "ipython3",
   "version": "3.6.8"
  }
 },
 "nbformat": 4,
 "nbformat_minor": 5
}
