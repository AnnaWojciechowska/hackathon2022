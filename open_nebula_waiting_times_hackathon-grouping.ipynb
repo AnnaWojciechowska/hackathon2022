{
 "cells": [
  {
   "cell_type": "code",
   "execution_count": 43,
   "id": "de9cd9b7",
   "metadata": {},
   "outputs": [],
   "source": [
    "import influxdb\n",
    "import pandas as pd\n",
    "from influxdb import InfluxDBClient\n",
    "import json\n",
    "from datetime import datetime"
   ]
  },
  {
   "cell_type": "code",
   "execution_count": 44,
   "id": "35ce42b9",
   "metadata": {},
   "outputs": [],
   "source": [
    "telegraf_auth = json.load(open('telegraf_credentials'))\n",
    "telegraf_client = InfluxDBClient(\n",
    "    host=\"qtinfluxdb01.intra.qt.io\",\n",
    "    username=telegraf_auth['username'],\n",
    "    password=telegraf_auth['password'],\n",
    "    port=8086,\n",
    "    ssl=True,\n",
    "    database=\"telegraf\")"
   ]
  },
  {
   "cell_type": "markdown",
   "id": "2a158a64",
   "metadata": {},
   "source": [
    "<h2>Open nebula waiting times resampled </h2>\n",
    "This notebooks retireves data about waiting times from opennebula, cleans it (removes nan and values <=0), \n",
    "resamples is by 10 minutes and creates 2 files:  \n",
    "mean values (grouped by 10 min)  \n",
    "max values (grouped by 10 min)"
   ]
  },
  {
   "cell_type": "code",
   "execution_count": 45,
   "id": "815c3594",
   "metadata": {},
   "outputs": [
    {
     "name": "stderr",
     "output_type": "stream",
     "text": [
      "/home/anwojcie/.local/lib/python3.6/site-packages/urllib3/connectionpool.py:847: InsecureRequestWarning: Unverified HTTPS request is being made. Adding certificate verification is strongly advised. See: https://urllib3.readthedocs.io/en/latest/advanced-usage.html#ssl-warnings\n",
      "  InsecureRequestWarning)\n"
     ]
    }
   ],
   "source": [
    "q = 'SELECT * from \"onedb\" WHERE  time > now() - 12d'\n",
    "rs = telegraf_client.query(q)\n",
    "tdf = pd.DataFrame(rs.get_points())\n"
   ]
  },
  {
   "cell_type": "code",
   "execution_count": 46,
   "id": "735092f5",
   "metadata": {},
   "outputs": [
    {
     "data": {
      "text/plain": [
       "(194113, 14)"
      ]
     },
     "execution_count": 46,
     "metadata": {},
     "output_type": "execute_result"
    }
   ],
   "source": [
    "tdf.shape"
   ]
  },
  {
   "cell_type": "code",
   "execution_count": 48,
   "id": "f12ffed7",
   "metadata": {},
   "outputs": [
    {
     "data": {
      "text/plain": [
       "(193776, 2)"
      ]
     },
     "execution_count": 48,
     "metadata": {},
     "output_type": "execute_result"
    }
   ],
   "source": [
    "df = tdf.loc[(tdf['instance'] == \"one-master-202105\")]\n",
    "df = df[['time','wtime']]\n",
    "df = df.dropna()\n",
    "df = df.loc[(df['wtime'] > 0)]\n",
    "df.wtime = df.wtime.apply(lambda d: int(d))\n",
    "df.time = pd.to_datetime(df.time)\n",
    "df.shape"
   ]
  },
  {
   "cell_type": "code",
   "execution_count": 49,
   "id": "7c0bcaae",
   "metadata": {},
   "outputs": [],
   "source": [
    "test = df.set_index('time')"
   ]
  },
  {
   "cell_type": "code",
   "execution_count": 56,
   "id": "2eab86cb",
   "metadata": {},
   "outputs": [
    {
     "data": {
      "text/html": [
       "<div>\n",
       "<style scoped>\n",
       "    .dataframe tbody tr th:only-of-type {\n",
       "        vertical-align: middle;\n",
       "    }\n",
       "\n",
       "    .dataframe tbody tr th {\n",
       "        vertical-align: top;\n",
       "    }\n",
       "\n",
       "    .dataframe thead th {\n",
       "        text-align: right;\n",
       "    }\n",
       "</style>\n",
       "<table border=\"1\" class=\"dataframe\">\n",
       "  <thead>\n",
       "    <tr style=\"text-align: right;\">\n",
       "      <th></th>\n",
       "      <th>wtime</th>\n",
       "    </tr>\n",
       "    <tr>\n",
       "      <th>time</th>\n",
       "      <th></th>\n",
       "    </tr>\n",
       "  </thead>\n",
       "  <tbody>\n",
       "    <tr>\n",
       "      <th>2022-01-14 16:01:40+00:00</th>\n",
       "      <td>772</td>\n",
       "    </tr>\n",
       "    <tr>\n",
       "      <th>2022-01-14 16:01:42+00:00</th>\n",
       "      <td>770</td>\n",
       "    </tr>\n",
       "    <tr>\n",
       "      <th>2022-01-14 16:01:42+00:00</th>\n",
       "      <td>770</td>\n",
       "    </tr>\n",
       "    <tr>\n",
       "      <th>2022-01-14 16:01:42+00:00</th>\n",
       "      <td>771</td>\n",
       "    </tr>\n",
       "    <tr>\n",
       "      <th>2022-01-14 16:01:42+00:00</th>\n",
       "      <td>771</td>\n",
       "    </tr>\n",
       "  </tbody>\n",
       "</table>\n",
       "</div>"
      ],
      "text/plain": [
       "                           wtime\n",
       "time                            \n",
       "2022-01-14 16:01:40+00:00    772\n",
       "2022-01-14 16:01:42+00:00    770\n",
       "2022-01-14 16:01:42+00:00    770\n",
       "2022-01-14 16:01:42+00:00    771\n",
       "2022-01-14 16:01:42+00:00    771"
      ]
     },
     "execution_count": 56,
     "metadata": {},
     "output_type": "execute_result"
    }
   ],
   "source": [
    "test.head()"
   ]
  },
  {
   "cell_type": "code",
   "execution_count": 62,
   "id": "c60ca5ea",
   "metadata": {},
   "outputs": [
    {
     "data": {
      "text/plain": [
       "(1621, 1)"
      ]
     },
     "execution_count": 62,
     "metadata": {},
     "output_type": "execute_result"
    }
   ],
   "source": [
    "df_mean= test.resample('10min').mean()\n",
    "df_mean = df_mean.dropna()\n",
    "df_mean.wtime = df_mean.wtime.apply(lambda d: int(d))\n",
    "df_mean.shape\n"
   ]
  },
  {
   "cell_type": "code",
   "execution_count": 63,
   "id": "e86c7f43",
   "metadata": {},
   "outputs": [
    {
     "data": {
      "text/html": [
       "<div>\n",
       "<style scoped>\n",
       "    .dataframe tbody tr th:only-of-type {\n",
       "        vertical-align: middle;\n",
       "    }\n",
       "\n",
       "    .dataframe tbody tr th {\n",
       "        vertical-align: top;\n",
       "    }\n",
       "\n",
       "    .dataframe thead th {\n",
       "        text-align: right;\n",
       "    }\n",
       "</style>\n",
       "<table border=\"1\" class=\"dataframe\">\n",
       "  <thead>\n",
       "    <tr style=\"text-align: right;\">\n",
       "      <th></th>\n",
       "      <th>wtime</th>\n",
       "    </tr>\n",
       "    <tr>\n",
       "      <th>time</th>\n",
       "      <th></th>\n",
       "    </tr>\n",
       "  </thead>\n",
       "  <tbody>\n",
       "    <tr>\n",
       "      <th>2022-01-14 16:00:00+00:00</th>\n",
       "      <td>821</td>\n",
       "    </tr>\n",
       "    <tr>\n",
       "      <th>2022-01-14 16:10:00+00:00</th>\n",
       "      <td>484</td>\n",
       "    </tr>\n",
       "    <tr>\n",
       "      <th>2022-01-14 16:20:00+00:00</th>\n",
       "      <td>442</td>\n",
       "    </tr>\n",
       "    <tr>\n",
       "      <th>2022-01-14 16:30:00+00:00</th>\n",
       "      <td>566</td>\n",
       "    </tr>\n",
       "    <tr>\n",
       "      <th>2022-01-14 16:40:00+00:00</th>\n",
       "      <td>685</td>\n",
       "    </tr>\n",
       "  </tbody>\n",
       "</table>\n",
       "</div>"
      ],
      "text/plain": [
       "                           wtime\n",
       "time                            \n",
       "2022-01-14 16:00:00+00:00    821\n",
       "2022-01-14 16:10:00+00:00    484\n",
       "2022-01-14 16:20:00+00:00    442\n",
       "2022-01-14 16:30:00+00:00    566\n",
       "2022-01-14 16:40:00+00:00    685"
      ]
     },
     "execution_count": 63,
     "metadata": {},
     "output_type": "execute_result"
    }
   ],
   "source": [
    "df_mean.head()"
   ]
  },
  {
   "cell_type": "code",
   "execution_count": 64,
   "id": "b0f5df54",
   "metadata": {},
   "outputs": [],
   "source": [
    "df_mean.to_csv('mean_12_days.csv', index=True)"
   ]
  },
  {
   "cell_type": "code",
   "execution_count": 73,
   "id": "6341f60e",
   "metadata": {},
   "outputs": [
    {
     "data": {
      "text/plain": [
       "(1621, 1)"
      ]
     },
     "execution_count": 73,
     "metadata": {},
     "output_type": "execute_result"
    }
   ],
   "source": [
    "df_max= test.resample('10min').max()\n",
    "df_max = df_max.dropna()\n",
    "df_max.wtime = df_max.wtime.apply(lambda d: int(d))\n",
    "df_max.shape"
   ]
  },
  {
   "cell_type": "code",
   "execution_count": 74,
   "id": "6922c061",
   "metadata": {},
   "outputs": [
    {
     "data": {
      "text/html": [
       "<div>\n",
       "<style scoped>\n",
       "    .dataframe tbody tr th:only-of-type {\n",
       "        vertical-align: middle;\n",
       "    }\n",
       "\n",
       "    .dataframe tbody tr th {\n",
       "        vertical-align: top;\n",
       "    }\n",
       "\n",
       "    .dataframe thead th {\n",
       "        text-align: right;\n",
       "    }\n",
       "</style>\n",
       "<table border=\"1\" class=\"dataframe\">\n",
       "  <thead>\n",
       "    <tr style=\"text-align: right;\">\n",
       "      <th></th>\n",
       "      <th>wtime</th>\n",
       "    </tr>\n",
       "    <tr>\n",
       "      <th>time</th>\n",
       "      <th></th>\n",
       "    </tr>\n",
       "  </thead>\n",
       "  <tbody>\n",
       "    <tr>\n",
       "      <th>2022-01-14 16:00:00+00:00</th>\n",
       "      <td>2522</td>\n",
       "    </tr>\n",
       "    <tr>\n",
       "      <th>2022-01-14 16:10:00+00:00</th>\n",
       "      <td>2495</td>\n",
       "    </tr>\n",
       "    <tr>\n",
       "      <th>2022-01-14 16:20:00+00:00</th>\n",
       "      <td>4679</td>\n",
       "    </tr>\n",
       "    <tr>\n",
       "      <th>2022-01-14 16:30:00+00:00</th>\n",
       "      <td>2721</td>\n",
       "    </tr>\n",
       "    <tr>\n",
       "      <th>2022-01-14 16:40:00+00:00</th>\n",
       "      <td>2853</td>\n",
       "    </tr>\n",
       "  </tbody>\n",
       "</table>\n",
       "</div>"
      ],
      "text/plain": [
       "                           wtime\n",
       "time                            \n",
       "2022-01-14 16:00:00+00:00   2522\n",
       "2022-01-14 16:10:00+00:00   2495\n",
       "2022-01-14 16:20:00+00:00   4679\n",
       "2022-01-14 16:30:00+00:00   2721\n",
       "2022-01-14 16:40:00+00:00   2853"
      ]
     },
     "execution_count": 74,
     "metadata": {},
     "output_type": "execute_result"
    }
   ],
   "source": [
    "df_max.head()"
   ]
  },
  {
   "cell_type": "code",
   "execution_count": 75,
   "id": "a532367f",
   "metadata": {},
   "outputs": [],
   "source": [
    "df_max.to_csv('max_12_days.csv', index=True)\n"
   ]
  },
  {
   "cell_type": "code",
   "execution_count": 39,
   "id": "e0d687be",
   "metadata": {},
   "outputs": [],
   "source": [
    "test_std = test.resample('10min').std()"
   ]
  },
  {
   "cell_type": "markdown",
   "id": "48e9650e",
   "metadata": {},
   "source": [
    "Just curious how big is standar deviation in this data..."
   ]
  },
  {
   "cell_type": "code",
   "execution_count": 41,
   "id": "385432c1",
   "metadata": {},
   "outputs": [
    {
     "data": {
      "text/html": [
       "<div>\n",
       "<style scoped>\n",
       "    .dataframe tbody tr th:only-of-type {\n",
       "        vertical-align: middle;\n",
       "    }\n",
       "\n",
       "    .dataframe tbody tr th {\n",
       "        vertical-align: top;\n",
       "    }\n",
       "\n",
       "    .dataframe thead th {\n",
       "        text-align: right;\n",
       "    }\n",
       "</style>\n",
       "<table border=\"1\" class=\"dataframe\">\n",
       "  <thead>\n",
       "    <tr style=\"text-align: right;\">\n",
       "      <th></th>\n",
       "      <th>wtime</th>\n",
       "    </tr>\n",
       "    <tr>\n",
       "      <th>time</th>\n",
       "      <th></th>\n",
       "    </tr>\n",
       "  </thead>\n",
       "  <tbody>\n",
       "    <tr>\n",
       "      <th>2022-01-19 15:40:00+00:00</th>\n",
       "      <td>5365.133333</td>\n",
       "    </tr>\n",
       "    <tr>\n",
       "      <th>2022-01-19 15:50:00+00:00</th>\n",
       "      <td>4742.971429</td>\n",
       "    </tr>\n",
       "    <tr>\n",
       "      <th>2022-01-19 16:00:00+00:00</th>\n",
       "      <td>5385.833962</td>\n",
       "    </tr>\n",
       "    <tr>\n",
       "      <th>2022-01-19 16:10:00+00:00</th>\n",
       "      <td>5423.511327</td>\n",
       "    </tr>\n",
       "    <tr>\n",
       "      <th>2022-01-19 16:20:00+00:00</th>\n",
       "      <td>4218.017730</td>\n",
       "    </tr>\n",
       "  </tbody>\n",
       "</table>\n",
       "</div>"
      ],
      "text/plain": [
       "                                 wtime\n",
       "time                                  \n",
       "2022-01-19 15:40:00+00:00  5365.133333\n",
       "2022-01-19 15:50:00+00:00  4742.971429\n",
       "2022-01-19 16:00:00+00:00  5385.833962\n",
       "2022-01-19 16:10:00+00:00  5423.511327\n",
       "2022-01-19 16:20:00+00:00  4218.017730"
      ]
     },
     "execution_count": 41,
     "metadata": {},
     "output_type": "execute_result"
    }
   ],
   "source": [
    "test_mean.head()"
   ]
  },
  {
   "cell_type": "code",
   "execution_count": 42,
   "id": "6aff30d8",
   "metadata": {},
   "outputs": [
    {
     "data": {
      "text/html": [
       "<div>\n",
       "<style scoped>\n",
       "    .dataframe tbody tr th:only-of-type {\n",
       "        vertical-align: middle;\n",
       "    }\n",
       "\n",
       "    .dataframe tbody tr th {\n",
       "        vertical-align: top;\n",
       "    }\n",
       "\n",
       "    .dataframe thead th {\n",
       "        text-align: right;\n",
       "    }\n",
       "</style>\n",
       "<table border=\"1\" class=\"dataframe\">\n",
       "  <thead>\n",
       "    <tr style=\"text-align: right;\">\n",
       "      <th></th>\n",
       "      <th>wtime</th>\n",
       "    </tr>\n",
       "    <tr>\n",
       "      <th>time</th>\n",
       "      <th></th>\n",
       "    </tr>\n",
       "  </thead>\n",
       "  <tbody>\n",
       "    <tr>\n",
       "      <th>2022-01-19 15:40:00+00:00</th>\n",
       "      <td>55.200856</td>\n",
       "    </tr>\n",
       "    <tr>\n",
       "      <th>2022-01-19 15:50:00+00:00</th>\n",
       "      <td>1904.939667</td>\n",
       "    </tr>\n",
       "    <tr>\n",
       "      <th>2022-01-19 16:00:00+00:00</th>\n",
       "      <td>1473.208402</td>\n",
       "    </tr>\n",
       "    <tr>\n",
       "      <th>2022-01-19 16:10:00+00:00</th>\n",
       "      <td>1595.815969</td>\n",
       "    </tr>\n",
       "    <tr>\n",
       "      <th>2022-01-19 16:20:00+00:00</th>\n",
       "      <td>2712.988567</td>\n",
       "    </tr>\n",
       "  </tbody>\n",
       "</table>\n",
       "</div>"
      ],
      "text/plain": [
       "                                 wtime\n",
       "time                                  \n",
       "2022-01-19 15:40:00+00:00    55.200856\n",
       "2022-01-19 15:50:00+00:00  1904.939667\n",
       "2022-01-19 16:00:00+00:00  1473.208402\n",
       "2022-01-19 16:10:00+00:00  1595.815969\n",
       "2022-01-19 16:20:00+00:00  2712.988567"
      ]
     },
     "execution_count": 42,
     "metadata": {},
     "output_type": "execute_result"
    }
   ],
   "source": [
    "test_std.head()"
   ]
  }
 ],
 "metadata": {
  "kernelspec": {
   "display_name": "Python 3",
   "language": "python",
   "name": "python3"
  },
  "language_info": {
   "codemirror_mode": {
    "name": "ipython",
    "version": 3
   },
   "file_extension": ".py",
   "mimetype": "text/x-python",
   "name": "python",
   "nbconvert_exporter": "python",
   "pygments_lexer": "ipython3",
   "version": "3.6.8"
  }
 },
 "nbformat": 4,
 "nbformat_minor": 5
}
