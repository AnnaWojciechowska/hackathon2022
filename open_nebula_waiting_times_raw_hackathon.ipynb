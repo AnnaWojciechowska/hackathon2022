{
 "cells": [
  {
   "cell_type": "code",
   "execution_count": 2,
   "id": "de9cd9b7",
   "metadata": {},
   "outputs": [],
   "source": [
    "import influxdb\n",
    "import pandas as pd\n",
    "from influxdb import InfluxDBClient\n",
    "import json\n",
    "from datetime import datetime"
   ]
  },
  {
   "cell_type": "code",
   "execution_count": 3,
   "id": "35ce42b9",
   "metadata": {},
   "outputs": [],
   "source": [
    "telegraf_auth = json.load(open('telegraf_credentials'))\n",
    "telegraf_client = InfluxDBClient(\n",
    "    host=\"qtinfluxdb01.intra.qt.io\",\n",
    "    username=telegraf_auth['username'],\n",
    "    password=telegraf_auth['password'],\n",
    "    port=8086,\n",
    "    ssl=True,\n",
    "    database=\"telegraf\")"
   ]
  },
  {
   "cell_type": "code",
   "execution_count": null,
   "id": "03929968",
   "metadata": {},
   "outputs": [],
   "source": [
    "<h2>Open nebula waiting times raw</h2>\n",
    "This notebooks retireves data about waiting times from opennebula, cleans it (removes nan and values <=0), \n",
    "resamples is by 10 minutes and creates 2 files:  \n",
    "mean values (grouped by 10 min)  \n",
    "max values (grouped by 10 min)"
   ]
  },
  {
   "cell_type": "code",
   "execution_count": 4,
   "id": "815c3594",
   "metadata": {},
   "outputs": [
    {
     "name": "stderr",
     "output_type": "stream",
     "text": [
      "/home/anwojcie/.local/lib/python3.6/site-packages/urllib3/connectionpool.py:847: InsecureRequestWarning: Unverified HTTPS request is being made. Adding certificate verification is strongly advised. See: https://urllib3.readthedocs.io/en/latest/advanced-usage.html#ssl-warnings\n",
      "  InsecureRequestWarning)\n"
     ]
    }
   ],
   "source": [
    "q = 'SELECT * from \"onedb\" WHERE  time > now() - 7d'\n",
    "rs = telegraf_client.query(q)\n",
    "tdf = pd.DataFrame(rs.get_points())\n"
   ]
  },
  {
   "cell_type": "code",
   "execution_count": 5,
   "id": "735092f5",
   "metadata": {},
   "outputs": [
    {
     "data": {
      "text/plain": [
       "(106249, 14)"
      ]
     },
     "execution_count": 5,
     "metadata": {},
     "output_type": "execute_result"
    }
   ],
   "source": [
    "tdf.shape"
   ]
  },
  {
   "cell_type": "code",
   "execution_count": 6,
   "id": "337036ee",
   "metadata": {},
   "outputs": [
    {
     "data": {
      "text/html": [
       "<div>\n",
       "<style scoped>\n",
       "    .dataframe tbody tr th:only-of-type {\n",
       "        vertical-align: middle;\n",
       "    }\n",
       "\n",
       "    .dataframe tbody tr th {\n",
       "        vertical-align: top;\n",
       "    }\n",
       "\n",
       "    .dataframe thead th {\n",
       "        text-align: right;\n",
       "    }\n",
       "</style>\n",
       "<table border=\"1\" class=\"dataframe\">\n",
       "  <thead>\n",
       "    <tr style=\"text-align: right;\">\n",
       "      <th></th>\n",
       "      <th>time</th>\n",
       "      <th>ctime</th>\n",
       "      <th>eetime</th>\n",
       "      <th>estime</th>\n",
       "      <th>etime</th>\n",
       "      <th>id</th>\n",
       "      <th>instance</th>\n",
       "      <th>petime</th>\n",
       "      <th>pstime</th>\n",
       "      <th>retime</th>\n",
       "      <th>rstime</th>\n",
       "      <th>stime</th>\n",
       "      <th>uname</th>\n",
       "      <th>wtime</th>\n",
       "    </tr>\n",
       "  </thead>\n",
       "  <tbody>\n",
       "    <tr>\n",
       "      <th>0</th>\n",
       "      <td>2022-01-19T15:13:08Z</td>\n",
       "      <td>1642605188</td>\n",
       "      <td>1.642609e+09</td>\n",
       "      <td>1.642609e+09</td>\n",
       "      <td>1642608945</td>\n",
       "      <td>173518</td>\n",
       "      <td>one-master-202105</td>\n",
       "      <td>1.642609e+09</td>\n",
       "      <td>1.642609e+09</td>\n",
       "      <td>1642608942</td>\n",
       "      <td>1642608874</td>\n",
       "      <td>1642608869</td>\n",
       "      <td>coin</td>\n",
       "      <td>3681.0</td>\n",
       "    </tr>\n",
       "    <tr>\n",
       "      <th>1</th>\n",
       "      <td>2022-01-19T15:13:08Z</td>\n",
       "      <td>1642605188</td>\n",
       "      <td>1.642609e+09</td>\n",
       "      <td>1.642609e+09</td>\n",
       "      <td>1642608947</td>\n",
       "      <td>173519</td>\n",
       "      <td>one-master-202105</td>\n",
       "      <td>1.642609e+09</td>\n",
       "      <td>1.642609e+09</td>\n",
       "      <td>1642608943</td>\n",
       "      <td>1642608874</td>\n",
       "      <td>1642608869</td>\n",
       "      <td>coin</td>\n",
       "      <td>3681.0</td>\n",
       "    </tr>\n",
       "    <tr>\n",
       "      <th>2</th>\n",
       "      <td>2022-01-19T15:13:08Z</td>\n",
       "      <td>1642605188</td>\n",
       "      <td>1.642609e+09</td>\n",
       "      <td>1.642609e+09</td>\n",
       "      <td>1642608970</td>\n",
       "      <td>173520</td>\n",
       "      <td>one-master-202105</td>\n",
       "      <td>1.642609e+09</td>\n",
       "      <td>1.642609e+09</td>\n",
       "      <td>1642608966</td>\n",
       "      <td>1642608876</td>\n",
       "      <td>1642608869</td>\n",
       "      <td>coin</td>\n",
       "      <td>3681.0</td>\n",
       "    </tr>\n",
       "    <tr>\n",
       "      <th>3</th>\n",
       "      <td>2022-01-19T15:13:09Z</td>\n",
       "      <td>1642605189</td>\n",
       "      <td>1.642609e+09</td>\n",
       "      <td>1.642609e+09</td>\n",
       "      <td>1642609011</td>\n",
       "      <td>173521</td>\n",
       "      <td>one-master-202105</td>\n",
       "      <td>1.642609e+09</td>\n",
       "      <td>1.642609e+09</td>\n",
       "      <td>1642609006</td>\n",
       "      <td>1642608874</td>\n",
       "      <td>1642608869</td>\n",
       "      <td>coin</td>\n",
       "      <td>3680.0</td>\n",
       "    </tr>\n",
       "    <tr>\n",
       "      <th>4</th>\n",
       "      <td>2022-01-19T15:13:09Z</td>\n",
       "      <td>1642605189</td>\n",
       "      <td>1.642609e+09</td>\n",
       "      <td>1.642609e+09</td>\n",
       "      <td>1642608963</td>\n",
       "      <td>173525</td>\n",
       "      <td>one-master-202105</td>\n",
       "      <td>1.642609e+09</td>\n",
       "      <td>1.642609e+09</td>\n",
       "      <td>1642608959</td>\n",
       "      <td>1642608877</td>\n",
       "      <td>1642608870</td>\n",
       "      <td>coin</td>\n",
       "      <td>3681.0</td>\n",
       "    </tr>\n",
       "  </tbody>\n",
       "</table>\n",
       "</div>"
      ],
      "text/plain": [
       "                   time       ctime        eetime        estime       etime  \\\n",
       "0  2022-01-19T15:13:08Z  1642605188  1.642609e+09  1.642609e+09  1642608945   \n",
       "1  2022-01-19T15:13:08Z  1642605188  1.642609e+09  1.642609e+09  1642608947   \n",
       "2  2022-01-19T15:13:08Z  1642605188  1.642609e+09  1.642609e+09  1642608970   \n",
       "3  2022-01-19T15:13:09Z  1642605189  1.642609e+09  1.642609e+09  1642609011   \n",
       "4  2022-01-19T15:13:09Z  1642605189  1.642609e+09  1.642609e+09  1642608963   \n",
       "\n",
       "       id           instance        petime        pstime      retime  \\\n",
       "0  173518  one-master-202105  1.642609e+09  1.642609e+09  1642608942   \n",
       "1  173519  one-master-202105  1.642609e+09  1.642609e+09  1642608943   \n",
       "2  173520  one-master-202105  1.642609e+09  1.642609e+09  1642608966   \n",
       "3  173521  one-master-202105  1.642609e+09  1.642609e+09  1642609006   \n",
       "4  173525  one-master-202105  1.642609e+09  1.642609e+09  1642608959   \n",
       "\n",
       "       rstime       stime uname   wtime  \n",
       "0  1642608874  1642608869  coin  3681.0  \n",
       "1  1642608874  1642608869  coin  3681.0  \n",
       "2  1642608876  1642608869  coin  3681.0  \n",
       "3  1642608874  1642608869  coin  3680.0  \n",
       "4  1642608877  1642608870  coin  3681.0  "
      ]
     },
     "execution_count": 6,
     "metadata": {},
     "output_type": "execute_result"
    }
   ],
   "source": [
    "tdf.head()"
   ]
  },
  {
   "cell_type": "code",
   "execution_count": 7,
   "id": "f12ffed7",
   "metadata": {},
   "outputs": [],
   "source": [
    "df = tdf.loc[(tdf['instance'] == \"one-master-202105\")]"
   ]
  },
  {
   "cell_type": "code",
   "execution_count": 8,
   "id": "4b974e14",
   "metadata": {},
   "outputs": [
    {
     "data": {
      "text/plain": [
       "(106249, 14)"
      ]
     },
     "execution_count": 8,
     "metadata": {},
     "output_type": "execute_result"
    }
   ],
   "source": [
    "df.shape"
   ]
  },
  {
   "cell_type": "code",
   "execution_count": 9,
   "id": "1cab25bb",
   "metadata": {},
   "outputs": [
    {
     "data": {
      "text/plain": [
       "(106249, 2)"
      ]
     },
     "execution_count": 9,
     "metadata": {},
     "output_type": "execute_result"
    }
   ],
   "source": [
    "df = df[['time','wtime']]\n",
    "df.shape"
   ]
  },
  {
   "cell_type": "code",
   "execution_count": 10,
   "id": "67302b99",
   "metadata": {},
   "outputs": [
    {
     "data": {
      "text/plain": [
       "True"
      ]
     },
     "execution_count": 10,
     "metadata": {},
     "output_type": "execute_result"
    }
   ],
   "source": [
    "df.isnull().values.any()"
   ]
  },
  {
   "cell_type": "code",
   "execution_count": 11,
   "id": "9e76203b",
   "metadata": {},
   "outputs": [
    {
     "data": {
      "text/plain": [
       "(106116, 2)"
      ]
     },
     "execution_count": 11,
     "metadata": {},
     "output_type": "execute_result"
    }
   ],
   "source": [
    "df = df.dropna()\n",
    "df.shape"
   ]
  },
  {
   "cell_type": "code",
   "execution_count": 15,
   "id": "4d8b47e2",
   "metadata": {},
   "outputs": [
    {
     "data": {
      "text/plain": [
       "(106110, 2)"
      ]
     },
     "execution_count": 15,
     "metadata": {},
     "output_type": "execute_result"
    }
   ],
   "source": [
    "df = df.loc[(df['wtime'] > 0)]\n",
    "df.shape"
   ]
  },
  {
   "cell_type": "code",
   "execution_count": 16,
   "id": "58f9aba9",
   "metadata": {},
   "outputs": [],
   "source": [
    "df.to_csv('wtimes_7days.csv', index=False)"
   ]
  },
  {
   "cell_type": "code",
   "execution_count": 12,
   "id": "905f88f0",
   "metadata": {},
   "outputs": [],
   "source": [
    "test = df.loc[(df['wtime'] < 0)]"
   ]
  },
  {
   "cell_type": "code",
   "execution_count": 14,
   "id": "d69407c7",
   "metadata": {},
   "outputs": [
    {
     "data": {
      "text/plain": [
       "(6, 2)"
      ]
     },
     "execution_count": 14,
     "metadata": {},
     "output_type": "execute_result"
    }
   ],
   "source": [
    "test.shape"
   ]
  }
 ],
 "metadata": {
  "kernelspec": {
   "display_name": "Python 3",
   "language": "python",
   "name": "python3"
  },
  "language_info": {
   "codemirror_mode": {
    "name": "ipython",
    "version": 3
   },
   "file_extension": ".py",
   "mimetype": "text/x-python",
   "name": "python",
   "nbconvert_exporter": "python",
   "pygments_lexer": "ipython3",
   "version": "3.6.8"
  }
 },
 "nbformat": 4,
 "nbformat_minor": 5
}
