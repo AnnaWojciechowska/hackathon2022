{
 "cells": [
  {
   "cell_type": "code",
   "execution_count": 1,
   "id": "adjusted-brush",
   "metadata": {},
   "outputs": [],
   "source": [
    "import psycopg2\n",
    "import json\n",
    "import pandas as pd\n",
    "from datetime import datetime\n",
    "from datetime import timedelta\n",
    "#from datetime import timedelta"
   ]
  },
  {
   "cell_type": "code",
   "execution_count": 2,
   "id": "initial-energy",
   "metadata": {},
   "outputs": [],
   "source": [
    "postgres_auth = json.load(open('postgres_credentials'))\n",
    "conn = psycopg2.connect(\n",
    "    host=\"54.72.119.169\",\n",
    "    database=\"on_data\",\n",
    "    user=postgres_auth['username'],\n",
    "    password=postgres_auth['password'])\n",
    "conn.set_session(autocommit=True)\n"
   ]
  },
  {
   "cell_type": "code",
   "execution_count": 3,
   "id": "accessible-permission",
   "metadata": {},
   "outputs": [
    {
     "data": {
      "text/html": [
       "<div>\n",
       "<style scoped>\n",
       "    .dataframe tbody tr th:only-of-type {\n",
       "        vertical-align: middle;\n",
       "    }\n",
       "\n",
       "    .dataframe tbody tr th {\n",
       "        vertical-align: top;\n",
       "    }\n",
       "\n",
       "    .dataframe thead th {\n",
       "        text-align: right;\n",
       "    }\n",
       "</style>\n",
       "<table border=\"1\" class=\"dataframe\">\n",
       "  <thead>\n",
       "    <tr style=\"text-align: right;\">\n",
       "      <th></th>\n",
       "      <th>time</th>\n",
       "      <th>wtime</th>\n",
       "    </tr>\n",
       "  </thead>\n",
       "  <tbody>\n",
       "    <tr>\n",
       "      <th>0</th>\n",
       "      <td>2022-01-19 15:13:08</td>\n",
       "      <td>3681</td>\n",
       "    </tr>\n",
       "    <tr>\n",
       "      <th>1</th>\n",
       "      <td>2022-01-19 15:13:08</td>\n",
       "      <td>3681</td>\n",
       "    </tr>\n",
       "    <tr>\n",
       "      <th>2</th>\n",
       "      <td>2022-01-19 15:13:08</td>\n",
       "      <td>3681</td>\n",
       "    </tr>\n",
       "    <tr>\n",
       "      <th>3</th>\n",
       "      <td>2022-01-19 15:13:09</td>\n",
       "      <td>3680</td>\n",
       "    </tr>\n",
       "    <tr>\n",
       "      <th>4</th>\n",
       "      <td>2022-01-19 15:13:09</td>\n",
       "      <td>3681</td>\n",
       "    </tr>\n",
       "  </tbody>\n",
       "</table>\n",
       "</div>"
      ],
      "text/plain": [
       "                 time  wtime\n",
       "0 2022-01-19 15:13:08   3681\n",
       "1 2022-01-19 15:13:08   3681\n",
       "2 2022-01-19 15:13:08   3681\n",
       "3 2022-01-19 15:13:09   3680\n",
       "4 2022-01-19 15:13:09   3681"
      ]
     },
     "execution_count": 3,
     "metadata": {},
     "output_type": "execute_result"
    }
   ],
   "source": [
    "df = pd.read_csv('wtimes_7days.csv')  \n",
    "df.time = df.time.apply(lambda d: datetime.strptime(d, '%Y-%m-%dT%H:%M:%SZ'))\n",
    "df.wtime = df.wtime.apply(lambda d: int(d))\n",
    "df.head()"
   ]
  },
  {
   "cell_type": "code",
   "execution_count": 4,
   "id": "compact-transsexual",
   "metadata": {},
   "outputs": [],
   "source": [
    "cur = conn.cursor()\n",
    "for index, row in df.iterrows():\n",
    "    time = row['time']\n",
    "    value = row['wtime']\n",
    "    sql = \"\"\"INSERT INTO sample_7d(ts, wtime, value) VALUES ('{}', '{}',  {});\"\"\".format(time, \"wtime\",  value)\n",
    "    #print(sql)\n",
    "    cur.execute(sql)\n",
    "cur.close()    "
   ]
  }
 ],
 "metadata": {
  "kernelspec": {
   "display_name": "Python 3",
   "language": "python",
   "name": "python3"
  },
  "language_info": {
   "codemirror_mode": {
    "name": "ipython",
    "version": 3
   },
   "file_extension": ".py",
   "mimetype": "text/x-python",
   "name": "python",
   "nbconvert_exporter": "python",
   "pygments_lexer": "ipython3",
   "version": "3.8.10"
  }
 },
 "nbformat": 4,
 "nbformat_minor": 5
}
